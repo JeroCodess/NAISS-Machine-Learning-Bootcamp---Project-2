{
  "nbformat": 4,
  "nbformat_minor": 0,
  "metadata": {
    "colab": {
      "provenance": []
    },
    "kernelspec": {
      "name": "python3",
      "display_name": "Python 3"
    },
    "language_info": {
      "name": "python"
    }
  },
  "cells": [
    {
      "cell_type": "code",
      "execution_count": 1,
      "metadata": {
        "id": "guSDoBm5yAwE"
      },
      "outputs": [],
      "source": [
        "from torchvision import datasets\n",
        "from torchvision.transforms import ToTensor"
      ]
    },
    {
      "cell_type": "code",
      "source": [
        "train_data = datasets.MNIST(\n",
        "    root = 'data',\n",
        "    train = True,\n",
        "    transform = ToTensor(),\n",
        "    download = True,\n",
        ")\n",
        "\n",
        "test_data = datasets.MNIST(\n",
        "    root = 'data',\n",
        "    train = False,\n",
        "    transform = ToTensor(),\n",
        "    download = True,\n",
        ")"
      ],
      "metadata": {
        "colab": {
          "base_uri": "https://localhost:8080/"
        },
        "id": "adCB9euxzZFv",
        "outputId": "79c5e99e-e8cf-45f2-9784-02e538e807a3"
      },
      "execution_count": 2,
      "outputs": [
        {
          "output_type": "stream",
          "name": "stdout",
          "text": [
            "Downloading http://yann.lecun.com/exdb/mnist/train-images-idx3-ubyte.gz\n",
            "Failed to download (trying next):\n",
            "<urlopen error [SSL: CERTIFICATE_VERIFY_FAILED] certificate verify failed: certificate has expired (_ssl.c:1007)>\n",
            "\n",
            "Downloading https://ossci-datasets.s3.amazonaws.com/mnist/train-images-idx3-ubyte.gz\n",
            "Downloading https://ossci-datasets.s3.amazonaws.com/mnist/train-images-idx3-ubyte.gz to data/MNIST/raw/train-images-idx3-ubyte.gz\n"
          ]
        },
        {
          "output_type": "stream",
          "name": "stderr",
          "text": [
            "100%|██████████| 9912422/9912422 [00:00<00:00, 36019364.13it/s]\n"
          ]
        },
        {
          "output_type": "stream",
          "name": "stdout",
          "text": [
            "Extracting data/MNIST/raw/train-images-idx3-ubyte.gz to data/MNIST/raw\n",
            "\n",
            "Downloading http://yann.lecun.com/exdb/mnist/train-labels-idx1-ubyte.gz\n",
            "Failed to download (trying next):\n",
            "<urlopen error [SSL: CERTIFICATE_VERIFY_FAILED] certificate verify failed: certificate has expired (_ssl.c:1007)>\n",
            "\n",
            "Downloading https://ossci-datasets.s3.amazonaws.com/mnist/train-labels-idx1-ubyte.gz\n",
            "Downloading https://ossci-datasets.s3.amazonaws.com/mnist/train-labels-idx1-ubyte.gz to data/MNIST/raw/train-labels-idx1-ubyte.gz\n"
          ]
        },
        {
          "output_type": "stream",
          "name": "stderr",
          "text": [
            "100%|██████████| 28881/28881 [00:00<00:00, 1141368.24it/s]"
          ]
        },
        {
          "output_type": "stream",
          "name": "stdout",
          "text": [
            "Extracting data/MNIST/raw/train-labels-idx1-ubyte.gz to data/MNIST/raw\n",
            "\n",
            "Downloading http://yann.lecun.com/exdb/mnist/t10k-images-idx3-ubyte.gz\n"
          ]
        },
        {
          "output_type": "stream",
          "name": "stderr",
          "text": [
            "\n"
          ]
        },
        {
          "output_type": "stream",
          "name": "stdout",
          "text": [
            "Failed to download (trying next):\n",
            "<urlopen error [SSL: CERTIFICATE_VERIFY_FAILED] certificate verify failed: certificate has expired (_ssl.c:1007)>\n",
            "\n",
            "Downloading https://ossci-datasets.s3.amazonaws.com/mnist/t10k-images-idx3-ubyte.gz\n",
            "Downloading https://ossci-datasets.s3.amazonaws.com/mnist/t10k-images-idx3-ubyte.gz to data/MNIST/raw/t10k-images-idx3-ubyte.gz\n"
          ]
        },
        {
          "output_type": "stream",
          "name": "stderr",
          "text": [
            "100%|██████████| 1648877/1648877 [00:00<00:00, 9508523.43it/s]\n"
          ]
        },
        {
          "output_type": "stream",
          "name": "stdout",
          "text": [
            "Extracting data/MNIST/raw/t10k-images-idx3-ubyte.gz to data/MNIST/raw\n",
            "\n",
            "Downloading http://yann.lecun.com/exdb/mnist/t10k-labels-idx1-ubyte.gz\n",
            "Failed to download (trying next):\n",
            "<urlopen error [SSL: CERTIFICATE_VERIFY_FAILED] certificate verify failed: certificate has expired (_ssl.c:1007)>\n",
            "\n",
            "Downloading https://ossci-datasets.s3.amazonaws.com/mnist/t10k-labels-idx1-ubyte.gz\n",
            "Downloading https://ossci-datasets.s3.amazonaws.com/mnist/t10k-labels-idx1-ubyte.gz to data/MNIST/raw/t10k-labels-idx1-ubyte.gz\n"
          ]
        },
        {
          "output_type": "stream",
          "name": "stderr",
          "text": [
            "100%|██████████| 4542/4542 [00:00<00:00, 3752320.03it/s]"
          ]
        },
        {
          "output_type": "stream",
          "name": "stdout",
          "text": [
            "Extracting data/MNIST/raw/t10k-labels-idx1-ubyte.gz to data/MNIST/raw\n",
            "\n"
          ]
        },
        {
          "output_type": "stream",
          "name": "stderr",
          "text": [
            "\n"
          ]
        }
      ]
    },
    {
      "cell_type": "code",
      "source": [
        "train_data"
      ],
      "metadata": {
        "colab": {
          "base_uri": "https://localhost:8080/"
        },
        "id": "SY6f3j-J0j4k",
        "outputId": "86703c93-578c-46c8-c197-892129a26bfc"
      },
      "execution_count": 3,
      "outputs": [
        {
          "output_type": "execute_result",
          "data": {
            "text/plain": [
              "Dataset MNIST\n",
              "    Number of datapoints: 60000\n",
              "    Root location: data\n",
              "    Split: Train\n",
              "    StandardTransform\n",
              "Transform: ToTensor()"
            ]
          },
          "metadata": {},
          "execution_count": 3
        }
      ]
    },
    {
      "cell_type": "code",
      "source": [
        "test_data"
      ],
      "metadata": {
        "colab": {
          "base_uri": "https://localhost:8080/"
        },
        "id": "Oykfm2Qd0i_m",
        "outputId": "e67ccccb-4313-473b-978a-957477259ed9"
      },
      "execution_count": 4,
      "outputs": [
        {
          "output_type": "execute_result",
          "data": {
            "text/plain": [
              "Dataset MNIST\n",
              "    Number of datapoints: 10000\n",
              "    Root location: data\n",
              "    Split: Test\n",
              "    StandardTransform\n",
              "Transform: ToTensor()"
            ]
          },
          "metadata": {},
          "execution_count": 4
        }
      ]
    },
    {
      "cell_type": "code",
      "source": [
        "train_data.data.shape"
      ],
      "metadata": {
        "colab": {
          "base_uri": "https://localhost:8080/"
        },
        "id": "v7MFQvB50uSL",
        "outputId": "50a9cf4e-c931-406a-bc36-e97b80cb776e"
      },
      "execution_count": 7,
      "outputs": [
        {
          "output_type": "execute_result",
          "data": {
            "text/plain": [
              "torch.Size([60000, 28, 28])"
            ]
          },
          "metadata": {},
          "execution_count": 7
        }
      ]
    },
    {
      "cell_type": "code",
      "source": [
        "from torch.utils.data import DataLoader\n",
        "loaders = {\n",
        "           'train': DataLoader(train_data, batch_size=100, shuffle=True, num_workers=1),\n",
        "           'test': DataLoader(test_data, batch_size=100, shuffle=False, num_workers=1)\n",
        "}"
      ],
      "metadata": {
        "id": "ujjtT4wq0x6P"
      },
      "execution_count": 9,
      "outputs": []
    },
    {
      "cell_type": "code",
      "source": [
        "loaders"
      ],
      "metadata": {
        "colab": {
          "base_uri": "https://localhost:8080/"
        },
        "id": "W8WSg8TC1W8N",
        "outputId": "6a8dc64d-f6a5-4bd4-9f40-6beb7b567a65"
      },
      "execution_count": 10,
      "outputs": [
        {
          "output_type": "execute_result",
          "data": {
            "text/plain": [
              "{'train': <torch.utils.data.dataloader.DataLoader at 0x7bc21581d690>,\n",
              " 'test': <torch.utils.data.dataloader.DataLoader at 0x7bc21581e620>}"
            ]
          },
          "metadata": {},
          "execution_count": 10
        }
      ]
    },
    {
      "cell_type": "code",
      "source": [
        "import torch.nn as nn\n",
        "import torch.nn.functional as F\n",
        "import torch.optim as optim\n",
        "\n",
        "class CNN(nn.Module):\n",
        "  def __init__(self):\n",
        "    super(CNN, self).__init__()\n",
        "    self.conv1 = nn.Conv2d(1, 10, kernel_size=5)\n",
        "    self.conv2 = nn.Conv2d(10, 20, kernel_size=5)\n",
        "    self.conv2_drop = nn.Dropout2d()\n",
        "    self.fc1 = nn.Linear(320, 50)\n",
        "    self.fc2 = nn.Linear(50, 10)\n",
        "\n",
        "  def forward(self, x):\n",
        "    x = F.relu(F.max_pool2d(self.conv1(x), 2))\n",
        "    x = F.relu(F.max_pool2d(self.conv2_drop(self.conv2(x)), 2))\n",
        "    x = x.view(-1, 320)\n",
        "    x = F.relu(self.fc1(x))\n",
        "    x = F.dropout(x, training=self.training)\n",
        "    x = self.fc2(x)\n",
        "    return F.softmax(x)"
      ],
      "metadata": {
        "id": "iq4EwrUP1v_P"
      },
      "execution_count": 13,
      "outputs": []
    },
    {
      "cell_type": "code",
      "source": [
        "import torch\n",
        "\n",
        "device = torch.device('cuda' if torch.cuda.is_available() else 'cpu')\n",
        "\n",
        "model = CNN().to(device)\n",
        "optimizer = optim.Adam(model.parameters(), lr=0.001)\n",
        "loss_fn = nn.CrossEntropyLoss()\n",
        "\n",
        "def train_data(epoch):\n",
        "  model.train()\n",
        "  for batch_idx, (data, target) in enumerate(loaders['train']):\n",
        "    data, target = data.to(device), target.to(device)\n",
        "    optimizer.zero_grad()\n",
        "    output = model(data)\n",
        "    loss = loss_fn(output, target)\n",
        "    loss.backward()\n",
        "    optimizer.step()\n",
        "    if batch_idx % 20 == 0:\n",
        "      print(f'Train Epoch: {epoch} [{batch_idx * len(data)}/{len(loaders[\"train\"].dataset)} ({100. * batch_idx / len(loaders[\"train\"]):.0f}%)]\\tLoss: {loss.item():.6f}')\n",
        "\n",
        "def test():\n",
        "  model.eval()\n",
        "\n",
        "  test_loss = 0\n",
        "  correct = 0\n",
        "  with torch.no_grad():\n",
        "    for data, target in loaders['test']:\n",
        "      data, target = data.to(device), target.to(device)\n",
        "      output = model(data)\n",
        "      test_loss += loss_fn(output, target).item()\n",
        "      pred = output.argmax(dim=1, keepdim=True)\n",
        "      correct += pred.eq(target.view_as(pred)).sum().item()\n",
        "\n",
        "  test_loss /= len(loaders['test'].dataset)\n",
        "  print(f'\\nTest set: Average loss: {test_loss:.4f}, Accuracy {correct}/{len(loaders[\"test\"].dataset)} ({100. * correct / len(loaders[\"test\"].dataset):.0f}%\\n')"
      ],
      "metadata": {
        "id": "4QIOKzRi1YV7"
      },
      "execution_count": 14,
      "outputs": []
    },
    {
      "cell_type": "code",
      "source": [
        "for epoch in range(1, 11):\n",
        "  train_data(epoch)\n",
        "  test()"
      ],
      "metadata": {
        "colab": {
          "base_uri": "https://localhost:8080/"
        },
        "id": "00w8jgNG5vB6",
        "outputId": "f2c40a0b-c805-4631-bdee-65a6c169a6c2"
      },
      "execution_count": 15,
      "outputs": [
        {
          "output_type": "stream",
          "name": "stderr",
          "text": [
            "<ipython-input-13-7db9e937af89>:21: UserWarning: Implicit dimension choice for softmax has been deprecated. Change the call to include dim=X as an argument.\n",
            "  return F.softmax(x)\n"
          ]
        },
        {
          "output_type": "stream",
          "name": "stdout",
          "text": [
            "Train Epoch: 1 [0/60000 (0%)]\tLoss: 2.303635\n",
            "Train Epoch: 1 [2000/60000 (3%)]\tLoss: 2.296818\n",
            "Train Epoch: 1 [4000/60000 (7%)]\tLoss: 2.199898\n",
            "Train Epoch: 1 [6000/60000 (10%)]\tLoss: 2.049383\n",
            "Train Epoch: 1 [8000/60000 (13%)]\tLoss: 1.945611\n",
            "Train Epoch: 1 [10000/60000 (17%)]\tLoss: 1.833828\n",
            "Train Epoch: 1 [12000/60000 (20%)]\tLoss: 1.778296\n",
            "Train Epoch: 1 [14000/60000 (23%)]\tLoss: 1.769372\n",
            "Train Epoch: 1 [16000/60000 (27%)]\tLoss: 1.738949\n",
            "Train Epoch: 1 [18000/60000 (30%)]\tLoss: 1.777229\n",
            "Train Epoch: 1 [20000/60000 (33%)]\tLoss: 1.675549\n",
            "Train Epoch: 1 [22000/60000 (37%)]\tLoss: 1.705877\n",
            "Train Epoch: 1 [24000/60000 (40%)]\tLoss: 1.686230\n",
            "Train Epoch: 1 [26000/60000 (43%)]\tLoss: 1.716369\n",
            "Train Epoch: 1 [28000/60000 (47%)]\tLoss: 1.663723\n",
            "Train Epoch: 1 [30000/60000 (50%)]\tLoss: 1.601875\n",
            "Train Epoch: 1 [32000/60000 (53%)]\tLoss: 1.607345\n",
            "Train Epoch: 1 [34000/60000 (57%)]\tLoss: 1.655859\n",
            "Train Epoch: 1 [36000/60000 (60%)]\tLoss: 1.612697\n",
            "Train Epoch: 1 [38000/60000 (63%)]\tLoss: 1.616109\n",
            "Train Epoch: 1 [40000/60000 (67%)]\tLoss: 1.643814\n",
            "Train Epoch: 1 [42000/60000 (70%)]\tLoss: 1.613239\n",
            "Train Epoch: 1 [44000/60000 (73%)]\tLoss: 1.592976\n",
            "Train Epoch: 1 [46000/60000 (77%)]\tLoss: 1.652488\n",
            "Train Epoch: 1 [48000/60000 (80%)]\tLoss: 1.656112\n",
            "Train Epoch: 1 [50000/60000 (83%)]\tLoss: 1.611100\n",
            "Train Epoch: 1 [52000/60000 (87%)]\tLoss: 1.707590\n",
            "Train Epoch: 1 [54000/60000 (90%)]\tLoss: 1.627282\n",
            "Train Epoch: 1 [56000/60000 (93%)]\tLoss: 1.608556\n",
            "Train Epoch: 1 [58000/60000 (97%)]\tLoss: 1.613186\n",
            "\n",
            "Test set: Average loss: 0.0153, Accuracy 9369/10000 (94%\n",
            "\n",
            "Train Epoch: 2 [0/60000 (0%)]\tLoss: 1.651933\n",
            "Train Epoch: 2 [2000/60000 (3%)]\tLoss: 1.589962\n",
            "Train Epoch: 2 [4000/60000 (7%)]\tLoss: 1.627425\n",
            "Train Epoch: 2 [6000/60000 (10%)]\tLoss: 1.547002\n",
            "Train Epoch: 2 [8000/60000 (13%)]\tLoss: 1.559611\n",
            "Train Epoch: 2 [10000/60000 (17%)]\tLoss: 1.639967\n",
            "Train Epoch: 2 [12000/60000 (20%)]\tLoss: 1.591124\n",
            "Train Epoch: 2 [14000/60000 (23%)]\tLoss: 1.607140\n",
            "Train Epoch: 2 [16000/60000 (27%)]\tLoss: 1.571437\n",
            "Train Epoch: 2 [18000/60000 (30%)]\tLoss: 1.584583\n",
            "Train Epoch: 2 [20000/60000 (33%)]\tLoss: 1.595872\n",
            "Train Epoch: 2 [22000/60000 (37%)]\tLoss: 1.572869\n",
            "Train Epoch: 2 [24000/60000 (40%)]\tLoss: 1.587101\n",
            "Train Epoch: 2 [26000/60000 (43%)]\tLoss: 1.521323\n",
            "Train Epoch: 2 [28000/60000 (47%)]\tLoss: 1.595540\n",
            "Train Epoch: 2 [30000/60000 (50%)]\tLoss: 1.576958\n",
            "Train Epoch: 2 [32000/60000 (53%)]\tLoss: 1.562942\n",
            "Train Epoch: 2 [34000/60000 (57%)]\tLoss: 1.557320\n",
            "Train Epoch: 2 [36000/60000 (60%)]\tLoss: 1.559542\n",
            "Train Epoch: 2 [38000/60000 (63%)]\tLoss: 1.543021\n",
            "Train Epoch: 2 [40000/60000 (67%)]\tLoss: 1.557043\n",
            "Train Epoch: 2 [42000/60000 (70%)]\tLoss: 1.594950\n",
            "Train Epoch: 2 [44000/60000 (73%)]\tLoss: 1.532760\n",
            "Train Epoch: 2 [46000/60000 (77%)]\tLoss: 1.552584\n",
            "Train Epoch: 2 [48000/60000 (80%)]\tLoss: 1.555519\n",
            "Train Epoch: 2 [50000/60000 (83%)]\tLoss: 1.603276\n",
            "Train Epoch: 2 [52000/60000 (87%)]\tLoss: 1.542816\n",
            "Train Epoch: 2 [54000/60000 (90%)]\tLoss: 1.537948\n",
            "Train Epoch: 2 [56000/60000 (93%)]\tLoss: 1.578385\n",
            "Train Epoch: 2 [58000/60000 (97%)]\tLoss: 1.578982\n",
            "\n",
            "Test set: Average loss: 0.0151, Accuracy 9525/10000 (95%\n",
            "\n",
            "Train Epoch: 3 [0/60000 (0%)]\tLoss: 1.583029\n",
            "Train Epoch: 3 [2000/60000 (3%)]\tLoss: 1.580122\n",
            "Train Epoch: 3 [4000/60000 (7%)]\tLoss: 1.564354\n",
            "Train Epoch: 3 [6000/60000 (10%)]\tLoss: 1.622496\n",
            "Train Epoch: 3 [8000/60000 (13%)]\tLoss: 1.599988\n",
            "Train Epoch: 3 [10000/60000 (17%)]\tLoss: 1.511111\n",
            "Train Epoch: 3 [12000/60000 (20%)]\tLoss: 1.543486\n",
            "Train Epoch: 3 [14000/60000 (23%)]\tLoss: 1.530750\n",
            "Train Epoch: 3 [16000/60000 (27%)]\tLoss: 1.535644\n",
            "Train Epoch: 3 [18000/60000 (30%)]\tLoss: 1.542126\n",
            "Train Epoch: 3 [20000/60000 (33%)]\tLoss: 1.562515\n",
            "Train Epoch: 3 [22000/60000 (37%)]\tLoss: 1.541277\n",
            "Train Epoch: 3 [24000/60000 (40%)]\tLoss: 1.569338\n",
            "Train Epoch: 3 [26000/60000 (43%)]\tLoss: 1.531948\n",
            "Train Epoch: 3 [28000/60000 (47%)]\tLoss: 1.620017\n",
            "Train Epoch: 3 [30000/60000 (50%)]\tLoss: 1.553333\n",
            "Train Epoch: 3 [32000/60000 (53%)]\tLoss: 1.562873\n",
            "Train Epoch: 3 [34000/60000 (57%)]\tLoss: 1.536136\n",
            "Train Epoch: 3 [36000/60000 (60%)]\tLoss: 1.565497\n",
            "Train Epoch: 3 [38000/60000 (63%)]\tLoss: 1.586544\n",
            "Train Epoch: 3 [40000/60000 (67%)]\tLoss: 1.547850\n",
            "Train Epoch: 3 [42000/60000 (70%)]\tLoss: 1.537715\n",
            "Train Epoch: 3 [44000/60000 (73%)]\tLoss: 1.579284\n",
            "Train Epoch: 3 [46000/60000 (77%)]\tLoss: 1.583957\n",
            "Train Epoch: 3 [48000/60000 (80%)]\tLoss: 1.516858\n",
            "Train Epoch: 3 [50000/60000 (83%)]\tLoss: 1.579116\n",
            "Train Epoch: 3 [52000/60000 (87%)]\tLoss: 1.577242\n",
            "Train Epoch: 3 [54000/60000 (90%)]\tLoss: 1.609717\n",
            "Train Epoch: 3 [56000/60000 (93%)]\tLoss: 1.567082\n",
            "Train Epoch: 3 [58000/60000 (97%)]\tLoss: 1.541011\n",
            "\n",
            "Test set: Average loss: 0.0150, Accuracy 9593/10000 (96%\n",
            "\n",
            "Train Epoch: 4 [0/60000 (0%)]\tLoss: 1.496736\n",
            "Train Epoch: 4 [2000/60000 (3%)]\tLoss: 1.587559\n",
            "Train Epoch: 4 [4000/60000 (7%)]\tLoss: 1.574512\n",
            "Train Epoch: 4 [6000/60000 (10%)]\tLoss: 1.538727\n",
            "Train Epoch: 4 [8000/60000 (13%)]\tLoss: 1.558636\n",
            "Train Epoch: 4 [10000/60000 (17%)]\tLoss: 1.529470\n",
            "Train Epoch: 4 [12000/60000 (20%)]\tLoss: 1.566588\n",
            "Train Epoch: 4 [14000/60000 (23%)]\tLoss: 1.560811\n",
            "Train Epoch: 4 [16000/60000 (27%)]\tLoss: 1.528207\n",
            "Train Epoch: 4 [18000/60000 (30%)]\tLoss: 1.523052\n",
            "Train Epoch: 4 [20000/60000 (33%)]\tLoss: 1.580740\n",
            "Train Epoch: 4 [22000/60000 (37%)]\tLoss: 1.549760\n",
            "Train Epoch: 4 [24000/60000 (40%)]\tLoss: 1.540816\n",
            "Train Epoch: 4 [26000/60000 (43%)]\tLoss: 1.492934\n",
            "Train Epoch: 4 [28000/60000 (47%)]\tLoss: 1.572980\n",
            "Train Epoch: 4 [30000/60000 (50%)]\tLoss: 1.542765\n",
            "Train Epoch: 4 [32000/60000 (53%)]\tLoss: 1.547315\n",
            "Train Epoch: 4 [34000/60000 (57%)]\tLoss: 1.569357\n",
            "Train Epoch: 4 [36000/60000 (60%)]\tLoss: 1.523764\n",
            "Train Epoch: 4 [38000/60000 (63%)]\tLoss: 1.563740\n",
            "Train Epoch: 4 [40000/60000 (67%)]\tLoss: 1.511551\n",
            "Train Epoch: 4 [42000/60000 (70%)]\tLoss: 1.596964\n",
            "Train Epoch: 4 [44000/60000 (73%)]\tLoss: 1.523119\n",
            "Train Epoch: 4 [46000/60000 (77%)]\tLoss: 1.561231\n",
            "Train Epoch: 4 [48000/60000 (80%)]\tLoss: 1.530198\n",
            "Train Epoch: 4 [50000/60000 (83%)]\tLoss: 1.532166\n",
            "Train Epoch: 4 [52000/60000 (87%)]\tLoss: 1.525504\n",
            "Train Epoch: 4 [54000/60000 (90%)]\tLoss: 1.606489\n",
            "Train Epoch: 4 [56000/60000 (93%)]\tLoss: 1.602490\n",
            "Train Epoch: 4 [58000/60000 (97%)]\tLoss: 1.517590\n",
            "\n",
            "Test set: Average loss: 0.0150, Accuracy 9601/10000 (96%\n",
            "\n",
            "Train Epoch: 5 [0/60000 (0%)]\tLoss: 1.531532\n",
            "Train Epoch: 5 [2000/60000 (3%)]\tLoss: 1.540930\n",
            "Train Epoch: 5 [4000/60000 (7%)]\tLoss: 1.565937\n",
            "Train Epoch: 5 [6000/60000 (10%)]\tLoss: 1.535907\n",
            "Train Epoch: 5 [8000/60000 (13%)]\tLoss: 1.526478\n",
            "Train Epoch: 5 [10000/60000 (17%)]\tLoss: 1.527675\n",
            "Train Epoch: 5 [12000/60000 (20%)]\tLoss: 1.529283\n",
            "Train Epoch: 5 [14000/60000 (23%)]\tLoss: 1.550217\n",
            "Train Epoch: 5 [16000/60000 (27%)]\tLoss: 1.553547\n",
            "Train Epoch: 5 [18000/60000 (30%)]\tLoss: 1.497967\n",
            "Train Epoch: 5 [20000/60000 (33%)]\tLoss: 1.501371\n",
            "Train Epoch: 5 [22000/60000 (37%)]\tLoss: 1.550307\n",
            "Train Epoch: 5 [24000/60000 (40%)]\tLoss: 1.576784\n",
            "Train Epoch: 5 [26000/60000 (43%)]\tLoss: 1.530286\n",
            "Train Epoch: 5 [28000/60000 (47%)]\tLoss: 1.529435\n",
            "Train Epoch: 5 [30000/60000 (50%)]\tLoss: 1.564327\n",
            "Train Epoch: 5 [32000/60000 (53%)]\tLoss: 1.535824\n",
            "Train Epoch: 5 [34000/60000 (57%)]\tLoss: 1.516344\n",
            "Train Epoch: 5 [36000/60000 (60%)]\tLoss: 1.527701\n",
            "Train Epoch: 5 [38000/60000 (63%)]\tLoss: 1.563984\n",
            "Train Epoch: 5 [40000/60000 (67%)]\tLoss: 1.600190\n",
            "Train Epoch: 5 [42000/60000 (70%)]\tLoss: 1.523864\n",
            "Train Epoch: 5 [44000/60000 (73%)]\tLoss: 1.565807\n",
            "Train Epoch: 5 [46000/60000 (77%)]\tLoss: 1.559396\n",
            "Train Epoch: 5 [48000/60000 (80%)]\tLoss: 1.521327\n",
            "Train Epoch: 5 [50000/60000 (83%)]\tLoss: 1.540935\n",
            "Train Epoch: 5 [52000/60000 (87%)]\tLoss: 1.541416\n",
            "Train Epoch: 5 [54000/60000 (90%)]\tLoss: 1.547709\n",
            "Train Epoch: 5 [56000/60000 (93%)]\tLoss: 1.550706\n",
            "Train Epoch: 5 [58000/60000 (97%)]\tLoss: 1.505187\n",
            "\n",
            "Test set: Average loss: 0.0150, Accuracy 9664/10000 (97%\n",
            "\n",
            "Train Epoch: 6 [0/60000 (0%)]\tLoss: 1.562474\n",
            "Train Epoch: 6 [2000/60000 (3%)]\tLoss: 1.574206\n",
            "Train Epoch: 6 [4000/60000 (7%)]\tLoss: 1.536548\n",
            "Train Epoch: 6 [6000/60000 (10%)]\tLoss: 1.529344\n",
            "Train Epoch: 6 [8000/60000 (13%)]\tLoss: 1.520134\n",
            "Train Epoch: 6 [10000/60000 (17%)]\tLoss: 1.527476\n",
            "Train Epoch: 6 [12000/60000 (20%)]\tLoss: 1.503006\n",
            "Train Epoch: 6 [14000/60000 (23%)]\tLoss: 1.494202\n",
            "Train Epoch: 6 [16000/60000 (27%)]\tLoss: 1.565106\n",
            "Train Epoch: 6 [18000/60000 (30%)]\tLoss: 1.498392\n",
            "Train Epoch: 6 [20000/60000 (33%)]\tLoss: 1.527711\n",
            "Train Epoch: 6 [22000/60000 (37%)]\tLoss: 1.616562\n",
            "Train Epoch: 6 [24000/60000 (40%)]\tLoss: 1.521258\n",
            "Train Epoch: 6 [26000/60000 (43%)]\tLoss: 1.600704\n",
            "Train Epoch: 6 [28000/60000 (47%)]\tLoss: 1.530691\n",
            "Train Epoch: 6 [30000/60000 (50%)]\tLoss: 1.576987\n",
            "Train Epoch: 6 [32000/60000 (53%)]\tLoss: 1.534416\n",
            "Train Epoch: 6 [34000/60000 (57%)]\tLoss: 1.537739\n",
            "Train Epoch: 6 [36000/60000 (60%)]\tLoss: 1.521201\n",
            "Train Epoch: 6 [38000/60000 (63%)]\tLoss: 1.526237\n",
            "Train Epoch: 6 [40000/60000 (67%)]\tLoss: 1.495264\n",
            "Train Epoch: 6 [42000/60000 (70%)]\tLoss: 1.533445\n",
            "Train Epoch: 6 [44000/60000 (73%)]\tLoss: 1.532456\n",
            "Train Epoch: 6 [46000/60000 (77%)]\tLoss: 1.524390\n",
            "Train Epoch: 6 [48000/60000 (80%)]\tLoss: 1.572219\n",
            "Train Epoch: 6 [50000/60000 (83%)]\tLoss: 1.514901\n",
            "Train Epoch: 6 [52000/60000 (87%)]\tLoss: 1.535538\n",
            "Train Epoch: 6 [54000/60000 (90%)]\tLoss: 1.524146\n",
            "Train Epoch: 6 [56000/60000 (93%)]\tLoss: 1.496798\n",
            "Train Epoch: 6 [58000/60000 (97%)]\tLoss: 1.516627\n",
            "\n",
            "Test set: Average loss: 0.0149, Accuracy 9682/10000 (97%\n",
            "\n",
            "Train Epoch: 7 [0/60000 (0%)]\tLoss: 1.506003\n",
            "Train Epoch: 7 [2000/60000 (3%)]\tLoss: 1.560667\n",
            "Train Epoch: 7 [4000/60000 (7%)]\tLoss: 1.521115\n",
            "Train Epoch: 7 [6000/60000 (10%)]\tLoss: 1.498322\n",
            "Train Epoch: 7 [8000/60000 (13%)]\tLoss: 1.563390\n",
            "Train Epoch: 7 [10000/60000 (17%)]\tLoss: 1.499648\n",
            "Train Epoch: 7 [12000/60000 (20%)]\tLoss: 1.528936\n",
            "Train Epoch: 7 [14000/60000 (23%)]\tLoss: 1.488739\n",
            "Train Epoch: 7 [16000/60000 (27%)]\tLoss: 1.585486\n",
            "Train Epoch: 7 [18000/60000 (30%)]\tLoss: 1.537780\n",
            "Train Epoch: 7 [20000/60000 (33%)]\tLoss: 1.531954\n",
            "Train Epoch: 7 [22000/60000 (37%)]\tLoss: 1.539876\n",
            "Train Epoch: 7 [24000/60000 (40%)]\tLoss: 1.563798\n",
            "Train Epoch: 7 [26000/60000 (43%)]\tLoss: 1.584218\n",
            "Train Epoch: 7 [28000/60000 (47%)]\tLoss: 1.529996\n",
            "Train Epoch: 7 [30000/60000 (50%)]\tLoss: 1.496842\n",
            "Train Epoch: 7 [32000/60000 (53%)]\tLoss: 1.587145\n",
            "Train Epoch: 7 [34000/60000 (57%)]\tLoss: 1.553864\n",
            "Train Epoch: 7 [36000/60000 (60%)]\tLoss: 1.509557\n",
            "Train Epoch: 7 [38000/60000 (63%)]\tLoss: 1.525496\n",
            "Train Epoch: 7 [40000/60000 (67%)]\tLoss: 1.524416\n",
            "Train Epoch: 7 [42000/60000 (70%)]\tLoss: 1.543919\n",
            "Train Epoch: 7 [44000/60000 (73%)]\tLoss: 1.496490\n",
            "Train Epoch: 7 [46000/60000 (77%)]\tLoss: 1.531977\n",
            "Train Epoch: 7 [48000/60000 (80%)]\tLoss: 1.567771\n",
            "Train Epoch: 7 [50000/60000 (83%)]\tLoss: 1.514491\n",
            "Train Epoch: 7 [52000/60000 (87%)]\tLoss: 1.514518\n",
            "Train Epoch: 7 [54000/60000 (90%)]\tLoss: 1.506710\n",
            "Train Epoch: 7 [56000/60000 (93%)]\tLoss: 1.561152\n",
            "Train Epoch: 7 [58000/60000 (97%)]\tLoss: 1.512716\n",
            "\n",
            "Test set: Average loss: 0.0149, Accuracy 9718/10000 (97%\n",
            "\n",
            "Train Epoch: 8 [0/60000 (0%)]\tLoss: 1.501847\n",
            "Train Epoch: 8 [2000/60000 (3%)]\tLoss: 1.534577\n",
            "Train Epoch: 8 [4000/60000 (7%)]\tLoss: 1.541211\n",
            "Train Epoch: 8 [6000/60000 (10%)]\tLoss: 1.539596\n",
            "Train Epoch: 8 [8000/60000 (13%)]\tLoss: 1.488414\n",
            "Train Epoch: 8 [10000/60000 (17%)]\tLoss: 1.533244\n",
            "Train Epoch: 8 [12000/60000 (20%)]\tLoss: 1.522886\n",
            "Train Epoch: 8 [14000/60000 (23%)]\tLoss: 1.550999\n",
            "Train Epoch: 8 [16000/60000 (27%)]\tLoss: 1.522635\n",
            "Train Epoch: 8 [18000/60000 (30%)]\tLoss: 1.540116\n",
            "Train Epoch: 8 [20000/60000 (33%)]\tLoss: 1.517658\n",
            "Train Epoch: 8 [22000/60000 (37%)]\tLoss: 1.519158\n",
            "Train Epoch: 8 [24000/60000 (40%)]\tLoss: 1.532800\n",
            "Train Epoch: 8 [26000/60000 (43%)]\tLoss: 1.538127\n",
            "Train Epoch: 8 [28000/60000 (47%)]\tLoss: 1.527108\n",
            "Train Epoch: 8 [30000/60000 (50%)]\tLoss: 1.495342\n",
            "Train Epoch: 8 [32000/60000 (53%)]\tLoss: 1.536610\n",
            "Train Epoch: 8 [34000/60000 (57%)]\tLoss: 1.520437\n",
            "Train Epoch: 8 [36000/60000 (60%)]\tLoss: 1.529046\n",
            "Train Epoch: 8 [38000/60000 (63%)]\tLoss: 1.511234\n",
            "Train Epoch: 8 [40000/60000 (67%)]\tLoss: 1.537925\n",
            "Train Epoch: 8 [42000/60000 (70%)]\tLoss: 1.526501\n",
            "Train Epoch: 8 [44000/60000 (73%)]\tLoss: 1.524088\n",
            "Train Epoch: 8 [46000/60000 (77%)]\tLoss: 1.530521\n",
            "Train Epoch: 8 [48000/60000 (80%)]\tLoss: 1.503776\n",
            "Train Epoch: 8 [50000/60000 (83%)]\tLoss: 1.529110\n",
            "Train Epoch: 8 [52000/60000 (87%)]\tLoss: 1.515846\n",
            "Train Epoch: 8 [54000/60000 (90%)]\tLoss: 1.544901\n",
            "Train Epoch: 8 [56000/60000 (93%)]\tLoss: 1.517643\n",
            "Train Epoch: 8 [58000/60000 (97%)]\tLoss: 1.564601\n",
            "\n",
            "Test set: Average loss: 0.0149, Accuracy 9705/10000 (97%\n",
            "\n",
            "Train Epoch: 9 [0/60000 (0%)]\tLoss: 1.514637\n",
            "Train Epoch: 9 [2000/60000 (3%)]\tLoss: 1.585471\n",
            "Train Epoch: 9 [4000/60000 (7%)]\tLoss: 1.511726\n",
            "Train Epoch: 9 [6000/60000 (10%)]\tLoss: 1.525664\n",
            "Train Epoch: 9 [8000/60000 (13%)]\tLoss: 1.529582\n",
            "Train Epoch: 9 [10000/60000 (17%)]\tLoss: 1.531145\n",
            "Train Epoch: 9 [12000/60000 (20%)]\tLoss: 1.545986\n",
            "Train Epoch: 9 [14000/60000 (23%)]\tLoss: 1.535893\n",
            "Train Epoch: 9 [16000/60000 (27%)]\tLoss: 1.521167\n",
            "Train Epoch: 9 [18000/60000 (30%)]\tLoss: 1.520085\n",
            "Train Epoch: 9 [20000/60000 (33%)]\tLoss: 1.543011\n",
            "Train Epoch: 9 [22000/60000 (37%)]\tLoss: 1.515033\n",
            "Train Epoch: 9 [24000/60000 (40%)]\tLoss: 1.540324\n",
            "Train Epoch: 9 [26000/60000 (43%)]\tLoss: 1.537673\n",
            "Train Epoch: 9 [28000/60000 (47%)]\tLoss: 1.532605\n",
            "Train Epoch: 9 [30000/60000 (50%)]\tLoss: 1.562723\n",
            "Train Epoch: 9 [32000/60000 (53%)]\tLoss: 1.524367\n",
            "Train Epoch: 9 [34000/60000 (57%)]\tLoss: 1.510871\n",
            "Train Epoch: 9 [36000/60000 (60%)]\tLoss: 1.552151\n",
            "Train Epoch: 9 [38000/60000 (63%)]\tLoss: 1.543069\n",
            "Train Epoch: 9 [40000/60000 (67%)]\tLoss: 1.546291\n",
            "Train Epoch: 9 [42000/60000 (70%)]\tLoss: 1.538620\n",
            "Train Epoch: 9 [44000/60000 (73%)]\tLoss: 1.519791\n",
            "Train Epoch: 9 [46000/60000 (77%)]\tLoss: 1.572638\n",
            "Train Epoch: 9 [48000/60000 (80%)]\tLoss: 1.521087\n",
            "Train Epoch: 9 [50000/60000 (83%)]\tLoss: 1.530576\n",
            "Train Epoch: 9 [52000/60000 (87%)]\tLoss: 1.503874\n",
            "Train Epoch: 9 [54000/60000 (90%)]\tLoss: 1.512477\n",
            "Train Epoch: 9 [56000/60000 (93%)]\tLoss: 1.560864\n",
            "Train Epoch: 9 [58000/60000 (97%)]\tLoss: 1.517038\n",
            "\n",
            "Test set: Average loss: 0.0149, Accuracy 9719/10000 (97%\n",
            "\n",
            "Train Epoch: 10 [0/60000 (0%)]\tLoss: 1.588933\n",
            "Train Epoch: 10 [2000/60000 (3%)]\tLoss: 1.513747\n",
            "Train Epoch: 10 [4000/60000 (7%)]\tLoss: 1.505498\n",
            "Train Epoch: 10 [6000/60000 (10%)]\tLoss: 1.521906\n",
            "Train Epoch: 10 [8000/60000 (13%)]\tLoss: 1.510139\n",
            "Train Epoch: 10 [10000/60000 (17%)]\tLoss: 1.517277\n",
            "Train Epoch: 10 [12000/60000 (20%)]\tLoss: 1.528771\n",
            "Train Epoch: 10 [14000/60000 (23%)]\tLoss: 1.504768\n",
            "Train Epoch: 10 [16000/60000 (27%)]\tLoss: 1.530646\n",
            "Train Epoch: 10 [18000/60000 (30%)]\tLoss: 1.490997\n",
            "Train Epoch: 10 [20000/60000 (33%)]\tLoss: 1.529463\n",
            "Train Epoch: 10 [22000/60000 (37%)]\tLoss: 1.515285\n",
            "Train Epoch: 10 [24000/60000 (40%)]\tLoss: 1.552702\n",
            "Train Epoch: 10 [26000/60000 (43%)]\tLoss: 1.536697\n",
            "Train Epoch: 10 [28000/60000 (47%)]\tLoss: 1.506419\n",
            "Train Epoch: 10 [30000/60000 (50%)]\tLoss: 1.525029\n",
            "Train Epoch: 10 [32000/60000 (53%)]\tLoss: 1.536402\n",
            "Train Epoch: 10 [34000/60000 (57%)]\tLoss: 1.547890\n",
            "Train Epoch: 10 [36000/60000 (60%)]\tLoss: 1.526830\n",
            "Train Epoch: 10 [38000/60000 (63%)]\tLoss: 1.508913\n",
            "Train Epoch: 10 [40000/60000 (67%)]\tLoss: 1.565265\n",
            "Train Epoch: 10 [42000/60000 (70%)]\tLoss: 1.517925\n",
            "Train Epoch: 10 [44000/60000 (73%)]\tLoss: 1.525780\n",
            "Train Epoch: 10 [46000/60000 (77%)]\tLoss: 1.522766\n",
            "Train Epoch: 10 [48000/60000 (80%)]\tLoss: 1.551325\n",
            "Train Epoch: 10 [50000/60000 (83%)]\tLoss: 1.518316\n",
            "Train Epoch: 10 [52000/60000 (87%)]\tLoss: 1.513669\n",
            "Train Epoch: 10 [54000/60000 (90%)]\tLoss: 1.540676\n",
            "Train Epoch: 10 [56000/60000 (93%)]\tLoss: 1.535870\n",
            "Train Epoch: 10 [58000/60000 (97%)]\tLoss: 1.543244\n",
            "\n",
            "Test set: Average loss: 0.0149, Accuracy 9748/10000 (97%\n",
            "\n"
          ]
        }
      ]
    },
    {
      "cell_type": "code",
      "source": [
        "import matplotlib.pyplot as plt\n",
        "\n",
        "example_data, example_target = next(iter(loaders['test']))\n",
        "plt.imshow(example_data[10].squeeze(), cmap='gray')\n",
        "plt.title(f'Label: {example_target[10]}')\n",
        "plt.show()\n"
      ],
      "metadata": {
        "colab": {
          "base_uri": "https://localhost:8080/",
          "height": 452
        },
        "id": "PbxcSacq891h",
        "outputId": "0dc211bd-d90a-4b7c-93f4-a15eeff44ef7"
      },
      "execution_count": 18,
      "outputs": [
        {
          "output_type": "display_data",
          "data": {
            "text/plain": [
              "<Figure size 640x480 with 1 Axes>"
            ],
            "image/png": "[encoded data removed]"
          },
          "metadata": {}
        }
      ]
    },
    {
      "cell_type": "code",
      "source": [
        "model.eval()\n",
        "with torch.no_grad():\n",
        "  example_data, example_target = next(iter(loaders['test']))\n",
        "  example_data, example_target = example_data.to(device), example_target.to(device)\n",
        "  output = model(example_data)\n",
        "  pred = output.argmax(dim=1, keepdim=True)\n",
        "\n",
        "fig, axes = plt.subplots(1, 4, figsize=(12, 4))\n",
        "for i in range(4):\n",
        "  axes[i].imshow(example_data[i].cpu().squeeze(), cmap='gray')\n",
        "  axes[i].set_title(f'Pred: {pred[i].item()}, Label: {example_target[i].item()}')\n",
        "  axes[i].axis('off')\n",
        "\n",
        "plt.tight_layout()\n",
        "plt.show()"
      ],
      "metadata": {
        "colab": {
          "base_uri": "https://localhost:8080/",
          "height": 375
        },
        "id": "UlpdVVyf-E89",
        "outputId": "60f055e8-82b3-47e7-e1cc-2ec9f8d1903b"
      },
      "execution_count": 38,
      "outputs": [
        {
          "output_type": "stream",
          "name": "stderr",
          "text": [
            "<ipython-input-13-7db9e937af89>:21: UserWarning: Implicit dimension choice for softmax has been deprecated. Change the call to include dim=X as an argument.\n",
            "  return F.softmax(x)\n"
          ]
        },
        {
          "output_type": "display_data",
          "data": {
            "text/plain": [
              "<Figure size 1200x400 with 4 Axes>"
            ],
            "image/png": "[encoded data removed]"
          },
          "metadata": {}
        }
      ]
    }
  ]
}